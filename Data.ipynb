{
 "cells": [
  {
   "cell_type": "code",
   "execution_count": null,
   "id": "c2aec509",
   "metadata": {},
   "outputs": [],
   "source": [
    "columns = ['alloy', 'processing_type', 'processing_stage', 'number_of_cells', 'neighbor_order', 'number_of_disangles', 'p', 'H']\n",
    "\n",
    "data = [\n",
    "    ('Cu_01Cr_01Zr', 'ECAP', 1, 992, 1, )\n",
    "]"
   ]
  },
  {
   "cell_type": "code",
   "execution_count": null,
   "id": "31204492",
   "metadata": {},
   "outputs": [],
   "source": [
    "1 0.319\n",
    "2 0.256\n",
    "3 0.222\n",
    "4 0.204\n",
    "5 0.183\n",
    "6 0.174\n",
    "7 0.163\n",
    "8 0.156"
   ]
  }
 ],
 "metadata": {
  "kernelspec": {
   "display_name": "Python 3 (ipykernel)",
   "language": "python",
   "name": "python3"
  },
  "language_info": {
   "codemirror_mode": {
    "name": "ipython",
    "version": 3
   },
   "file_extension": ".py",
   "mimetype": "text/x-python",
   "name": "python",
   "nbconvert_exporter": "python",
   "pygments_lexer": "ipython3",
   "version": "3.10.4"
  }
 },
 "nbformat": 4,
 "nbformat_minor": 5
}
