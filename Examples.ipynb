{
 "cells": [
  {
   "cell_type": "code",
   "execution_count": null,
   "metadata": {},
   "outputs": [],
   "source": [
    "from matgen.base import CellComplex\n",
    "from matgen import matutils"
   ]
  },
  {
   "cell_type": "code",
   "execution_count": null,
   "metadata": {},
   "outputs": [],
   "source": [
    "import numpy as np\n",
    "import matplotlib.pyplot as plt"
   ]
  },
  {
   "cell_type": "markdown",
   "metadata": {},
   "source": [
    "# Creating cell complex and accessing k-cells"
   ]
  },
  {
   "cell_type": "code",
   "execution_count": null,
   "metadata": {},
   "outputs": [],
   "source": [
    "# Load cell complex from a `.tess` file\n",
    "filename = 'examples/Voronoi_10cells/Voronoi/n10-id1.tess'\n",
    "cell_complex_10 = CellComplex.from_tess_file(filename)\n",
    "print(cell_complex_10)"
   ]
  },
  {
   "cell_type": "code",
   "execution_count": null,
   "metadata": {},
   "outputs": [],
   "source": [
    "# get one or many k-cells\n",
    "# >>> cell_complex.get_one(cell_type, cell_id)\n",
    "# >>> cell_complex.get_many(cell_type, cell_ids)\n",
    "\n",
    "v3 = cell_complex_10.get_one('v', 3) # 'vertex', 'v', 0\n",
    "print(v3)\n",
    "e2 = cell_complex_10.get_one('e', 2) # 'edge', 'e', 1\n",
    "print(e2)\n",
    "f5 = cell_complex_10.get_one('f', 5) # 'face', 'f', 2\n",
    "print(f5)\n",
    "p8 = cell_complex_10.get_one('p', 8) # 'poly', 'p', 3\n",
    "print(p8)"
   ]
  },
  {
   "cell_type": "code",
   "execution_count": null,
   "metadata": {},
   "outputs": [],
   "source": [
    "# get all k-cells\n",
    "\n",
    "# cell_complex_10.vertices\n",
    "# cell_complex_10.edges\n",
    "# cell_complex_10.faces\n",
    "# cell_complex_10.polyhedra"
   ]
  },
  {
   "cell_type": "code",
   "execution_count": null,
   "metadata": {},
   "outputs": [],
   "source": [
    "# all cells \"know\" their own id, neighbours ids\n",
    "print(f'Cell id: {v3.id},', 'neigbour ids:', v3.n_ids)\n",
    "\n",
    "# all cells of lower order \"know\" their incident cells ids\n",
    "# there are two options: with or without cell orientations \n",
    "print(f'Cell id: {e2.id},', 'signed incident ids:', e2.signed_incident_ids)\n",
    "print(f'Cell id: {e2.id},', 'unsigned incident ids:', e2.incident_ids)"
   ]
  },
  {
   "cell_type": "code",
   "execution_count": null,
   "metadata": {},
   "outputs": [],
   "source": [
    "# cells of higher order \"know\" their vertices, edges and faces ids\n",
    "\n",
    "# f5.v_ids\n",
    "# f5.e_ids\n",
    "\n",
    "# p8.v_ids\n",
    "# p8.e_ids\n",
    "# p8.f_ids"
   ]
  },
  {
   "cell_type": "code",
   "execution_count": null,
   "metadata": {},
   "outputs": [],
   "source": [
    "# cells can be drawn\n",
    "cell_complex_10.plot_edges()\n",
    "plt.show()"
   ]
  },
  {
   "cell_type": "code",
   "execution_count": null,
   "metadata": {
    "scrolled": false
   },
   "outputs": [],
   "source": [
    "# cells can be external or internal\n",
    "ext_e_ids = cell_complex_10.get_external_ids('e')\n",
    "int_e_ids = cell_complex_10.get_internal_ids('e')\n",
    "\n",
    "ax = cell_complex_10.plot_edges(ext_e_ids, color='blue')\n",
    "ax = cell_complex_10.plot_edges(int_e_ids, color='red', ax=ax)\n",
    "plt.show()\n",
    "\n",
    "int_f_ids = cell_complex_10.get_internal_ids('f')\n",
    "\n",
    "cell_complex_10.plot_faces(int_f_ids, color='red')\n",
    "plt.show()"
   ]
  },
  {
   "cell_type": "markdown",
   "metadata": {},
   "source": [
    "# Disorientation angles"
   ]
  },
  {
   "cell_type": "code",
   "execution_count": null,
   "metadata": {},
   "outputs": [],
   "source": [
    "filename = 'examples/pass1.tess'\n",
    "cell_complex_pass1 = CellComplex.from_tess_file(filename)\n",
    "print(cell_complex_pass1)"
   ]
  },
  {
   "cell_type": "code",
   "execution_count": null,
   "metadata": {},
   "outputs": [],
   "source": [
    "# grains have crysym, oridesc and ori attributes\n",
    "\n",
    "f2 = cell_complex_pass1.get_one('f', 2)\n",
    "# f2.crysym\n",
    "# f2.oridesc\n",
    "# f2.ori"
   ]
  },
  {
   "cell_type": "code",
   "execution_count": null,
   "metadata": {},
   "outputs": [],
   "source": [
    "# grain boundaries can have disorientation angle (theta) between corresponding incident grains\n",
    "e42 = cell_complex_pass1.get_one('e', 42)\n",
    "\n",
    "print(e42.incident_ids)\n",
    "print(e42.theta)"
   ]
  },
  {
   "cell_type": "code",
   "execution_count": null,
   "metadata": {},
   "outputs": [],
   "source": [
    "# theta may be loaded or calculated from grain crystal orientations \n",
    "\n",
    "# cell_complex = CellComplex.from_tess_file(filename, with_theta=True)\n",
    "# cell_complex.set_thetas(thetas_list)\n",
    "# cell_complex.set_theta_form_file(thetas_filename)\n",
    "\n",
    "cell_complex_pass1.set_theta_from_ori()"
   ]
  },
  {
   "cell_type": "code",
   "execution_count": null,
   "metadata": {},
   "outputs": [],
   "source": [
    "print(e42.theta) # theta in degrees"
   ]
  },
  {
   "cell_type": "code",
   "execution_count": null,
   "metadata": {},
   "outputs": [],
   "source": [
    "# calculate disorientation angle between any two grains\n",
    "\n",
    "f9 = cell_complex_pass1.get_one('f', 9)\n",
    "f14 = cell_complex_pass1.get_one('f', 14)\n",
    "\n",
    "matutils.dis_angle(f9, f14)"
   ]
  },
  {
   "cell_type": "code",
   "execution_count": null,
   "metadata": {},
   "outputs": [],
   "source": [
    "# neighbors of orders higher than 1 can be calculated\n",
    "# cell_complex_pass1.find_neighbors_of_order(max_order)\n",
    "cell_complex_pass1.find_neighbors_of_order(8)\n",
    "\n",
    "# they can be accessed via n{k}_ids attribute\n",
    "print('Own id:', f9.n0_ids) # list with own id\n",
    "print('Neighbors:', f9.n1_ids) # neighbors\n",
    "print('Neighbors of neighbors:', f9.n2_ids) # again neighbors\n",
    "print('Neighbors of 8 order:', f9.n8_ids) # again neighbors"
   ]
  },
  {
   "cell_type": "code",
   "execution_count": null,
   "metadata": {},
   "outputs": [],
   "source": [
    "# All disorientation angles between grains and their neighbors of any order can be calculated\n",
    "# >>> cell_complex_pass1.get_neighbor_dis_angles(order)\n",
    "disangles1 = cell_complex_pass1.get_neighbor_dis_angles(1)"
   ]
  },
  {
   "cell_type": "code",
   "execution_count": null,
   "metadata": {},
   "outputs": [],
   "source": [
    "plt.hist(disangles1, bins=32, density=True, histtype='step', label='pass1')\n",
    "\n",
    "x = np.arange(63)\n",
    "y = matutils.mackenzie(x)\n",
    "plt.plot(x, y, label='random dist')\n",
    "plt.legend()\n",
    "plt.show()"
   ]
  },
  {
   "cell_type": "markdown",
   "metadata": {},
   "source": [
    "# Cell complex characteristics"
   ]
  },
  {
   "cell_type": "code",
   "execution_count": null,
   "metadata": {},
   "outputs": [],
   "source": [
    "\n",
    "print(cell_complex_pass1.get_special_ids())\n",
    "\n",
    "# Internal grain boundaries may be set special by choosing lower threshold or upper threshold or both\n",
    "\n",
    "# cell_complex = CellComplex.from_tess_file(filename, with_theta=True, theta_file, lower_thrd, upper_thrd)\n",
    "# or\n",
    "# cell_complex.set_thetas(thetas_list, lower_thrd, upper_thrd)\n",
    "# or\n",
    "# cell_complex.set_theta_form_file(thetas_filename, lower_thrd, upper_thrd)\n",
    "\n",
    "# If needed, after setting theta triple junction types must be calculated\n",
    "# cell_complex.set_junction_types()"
   ]
  },
  {
   "cell_type": "code",
   "execution_count": null,
   "metadata": {},
   "outputs": [],
   "source": [
    "# Special GBs may be reset\n",
    "\n",
    "cell_complex_pass1.reset_special(0, 15)\n",
    "print(len(cell_complex_pass1.get_special_ids()))\n",
    "print('p =', cell_complex_pass1.get_spec_fraction()) # Be careful with external/internal Neper issues"
   ]
  },
  {
   "cell_type": "code",
   "execution_count": null,
   "metadata": {},
   "outputs": [],
   "source": [
    "# when special GBs set, triple junction types may be retrieved\n",
    "# junction_type may be 0, 1, 2, 3\n",
    "tj0_ids = cell_complex_pass1.get_junction_ids_of_type(0)\n",
    "tj1_ids = cell_complex_pass1.get_junction_ids_of_type(1)\n",
    "tj2_ids = cell_complex_pass1.get_junction_ids_of_type(2)\n",
    "tj3_ids = cell_complex_pass1.get_junction_ids_of_type(3)\n",
    "print('TJ3 =', cell_complex_pass1.get_j_fraction(3))"
   ]
  },
  {
   "cell_type": "code",
   "execution_count": null,
   "metadata": {},
   "outputs": [],
   "source": [
    "ax = cell_complex_pass1.plot_edges(color='C0')\n",
    "cell_complex_pass1.plot_edges(cell_complex_pass1.get_external_ids('e'), color='C2', ax=ax)\n",
    "cell_complex_pass1.plot_edges(cell_complex_pass1.get_special_ids(), color='C1', ax=ax)\n",
    "cell_complex_pass1.plot_vertices(tj3_ids, color='C1', ax=ax)\n",
    "plt.show()"
   ]
  },
  {
   "cell_type": "code",
   "execution_count": null,
   "metadata": {},
   "outputs": [],
   "source": [
    "ax = cell_complex_pass1.plot_edges(color='C0')\n",
    "cell_complex_pass1.plot_edges(cell_complex_pass1.get_special_ids(), color='C1', ax=ax)\n",
    "cell_complex_pass1.plot_vertices(tj3_ids, color='C1', ax=ax)\n",
    "cell_complex_pass1.plot_vertices(tj1_ids, color='C2', ax=ax)\n",
    "cell_complex_pass1.plot_vertices(tj0_ids, color='C0', ax=ax)\n",
    "cell_complex_pass1.plot_vertices(tj2_ids, color='C3', ax=ax)\n",
    "plt.xlim((0, 20))\n",
    "plt.ylim((0, 20))\n",
    "plt.show()"
   ]
  },
  {
   "cell_type": "code",
   "execution_count": null,
   "metadata": {},
   "outputs": [],
   "source": [
    "cell_complex_pass1.j_tuple"
   ]
  },
  {
   "cell_type": "code",
   "execution_count": null,
   "metadata": {},
   "outputs": [],
   "source": [
    "cell_complex_pass1.describe()"
   ]
  },
  {
   "cell_type": "code",
   "execution_count": null,
   "metadata": {},
   "outputs": [],
   "source": [
    "cell_complex_pass1.describe(attr_list=['p', 'Sp', 'S'])"
   ]
  }
 ],
 "metadata": {
  "kernelspec": {
   "display_name": "Python 3 (ipykernel)",
   "language": "python",
   "name": "python3"
  },
  "language_info": {
   "codemirror_mode": {
    "name": "ipython",
    "version": 3
   },
   "file_extension": ".py",
   "mimetype": "text/x-python",
   "name": "python",
   "nbconvert_exporter": "python",
   "pygments_lexer": "ipython3",
   "version": "3.10.0"
  }
 },
 "nbformat": 4,
 "nbformat_minor": 4
}
