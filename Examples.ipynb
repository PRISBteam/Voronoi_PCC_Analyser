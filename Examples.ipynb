{
 "cells": [
  {
   "cell_type": "code",
   "execution_count": 36,
   "metadata": {},
   "outputs": [],
   "source": [
    "import random"
   ]
  },
  {
   "cell_type": "code",
   "execution_count": 3,
   "metadata": {},
   "outputs": [],
   "source": [
    "from matgen import base"
   ]
  },
  {
   "cell_type": "markdown",
   "metadata": {},
   "source": [
    "Load complex from .tess file"
   ]
  },
  {
   "cell_type": "code",
   "execution_count": 6,
   "metadata": {},
   "outputs": [
    {
     "name": "stdout",
     "output_type": "stream",
     "text": [
      "Complex loaded: 0.0 s\n",
      "<class CellComplex> 2D\n",
      "18 vertices\n",
      "25 edges\n",
      "8 faces\n"
     ]
    }
   ],
   "source": [
    "filename = 'tests/n8-id1/n8-id1.tess'\n",
    "c = base.CellComplex.from_tess_file(filename, with_measures=True, with_theta=True, lower_thrd=170, upper_thrd=None)\n",
    "print(c)"
   ]
  },
  {
   "cell_type": "markdown",
   "metadata": {},
   "source": [
    "Random sampling"
   ]
  },
  {
   "cell_type": "code",
   "execution_count": 27,
   "metadata": {},
   "outputs": [
    {
     "name": "stdout",
     "output_type": "stream",
     "text": [
      "15\n"
     ]
    }
   ],
   "source": [
    "# Number of internal edges\n",
    "n_int = len(c.get_internal_ids('e'))\n",
    "print(n_int)"
   ]
  },
  {
   "cell_type": "code",
   "execution_count": 28,
   "metadata": {},
   "outputs": [
    {
     "name": "stdout",
     "output_type": "stream",
     "text": [
      "4\n"
     ]
    }
   ],
   "source": [
    "# Number of special edges from given p\n",
    "p = 0.3\n",
    "n_spec = round(p * n_int)\n",
    "print(n_spec)"
   ]
  },
  {
   "cell_type": "code",
   "execution_count": 34,
   "metadata": {},
   "outputs": [
    {
     "name": "stdout",
     "output_type": "stream",
     "text": [
      "Internal edges: [3, 4, 5, 7, 8, 9, 10, 12, 13, 14, 17, 18, 21, 22, 23]\n",
      "Random special edges for p = 0.3: [23, 13, 7, 17]\n"
     ]
    }
   ],
   "source": [
    "# Random sample of special edges from internal\n",
    "e_ids = random.sample(c.get_internal_ids('e'), n_spec)\n",
    "print('Internal edges:', c.get_internal_ids('e'))\n",
    "print(f'Random special edges for p = {p}:', e_ids)"
   ]
  },
  {
   "cell_type": "code",
   "execution_count": 35,
   "metadata": {},
   "outputs": [],
   "source": [
    "# Save special edge ids to file\n",
    "output_filename = 'special_edges.txt'\n",
    "with open(output_filename, 'w') as file:\n",
    "    for e_id in e_ids:\n",
    "        file.write(str(e_id) + '\\n')"
   ]
  },
  {
   "cell_type": "markdown",
   "metadata": {},
   "source": [
    "Complex attributes and methods (to be continued ...)"
   ]
  },
  {
   "cell_type": "code",
   "execution_count": 7,
   "metadata": {},
   "outputs": [
    {
     "data": {
      "text/plain": [
       "2"
      ]
     },
     "execution_count": 7,
     "metadata": {},
     "output_type": "execute_result"
    }
   ],
   "source": [
    "c.dim"
   ]
  },
  {
   "cell_type": "code",
   "execution_count": 8,
   "metadata": {},
   "outputs": [
    {
     "name": "stdout",
     "output_type": "stream",
     "text": [
      "1 (0.0, 0.0) 0.0 0.0 0.0\n",
      "2 (-0.0, 0.372175178843) -0.0 0.372175178843 -0.0\n",
      "3 (0.165947886512, 0.37480896537) 0.165947886512 0.37480896537 -0.0\n",
      "4 (0.23538946605, -0.0) 0.23538946605 -0.0 -0.0\n",
      "5 (0.218468842812, 0.216383034298) 0.218468842812 0.216383034298 -0.0\n",
      "6 (1.0, 0.712565556107) 1.0 0.712565556107 -0.0\n",
      "7 (0.717156741919, 0.8397056782) 0.717156741919 0.8397056782 -0.0\n",
      "8 (0.64524292278, 0.610152357521) 0.64524292278 0.610152357521 -0.0\n",
      "9 (1.0, 0.15437533501) 1.0 0.15437533501 -0.0\n",
      "10 (0.978841730334, 0.172624569554) 0.978841730334 0.172624569554 -0.0\n",
      "11 (0.717820800568, 1.0) 0.717820800568 1.0 -0.0\n",
      "12 (0.120089346967, 1.0) 0.120089346967 1.0 -0.0\n",
      "13 (0.290418808599, 0.651898152157) 0.290418808599 0.651898152157 -0.0\n",
      "14 (1.0, 0.0) 1.0 0.0 0.0\n",
      "15 (0.556645585193, 0.294222808899) 0.556645585193 0.294222808899 -0.0\n",
      "16 (0.0, 1.0) 0.0 1.0 0.0\n",
      "17 (0.250115874477, 0.503771588124) 0.250115874477 0.503771588124 -0.0\n",
      "18 (1.0, 1.0) 1.0 1.0 0.0\n"
     ]
    }
   ],
   "source": [
    "for v in c.vertices:\n",
    "    print(v.id, v.coord, v.x, v.y, v.z, )"
   ]
  },
  {
   "cell_type": "code",
   "execution_count": 18,
   "metadata": {},
   "outputs": [
    {
     "name": "stdout",
     "output_type": "stream",
     "text": [
      "1 \t [2, 4] \t 2 \t [-1, 2] \t [1, 2]\n",
      "2 \t [1, 3, 16] \t 3 \t [1, 3, -19] \t [1, 3, 19]\n",
      "3 \t [2, 5, 17] \t 3 \t [-3, 4, -21] \t [3, 4, 21]\n",
      "4 \t [1, 5, 14] \t 3 \t [-2, -5, 16] \t [2, 5, 16]\n",
      "5 \t [3, 4, 15] \t 3 \t [-4, 5, 17] \t [4, 5, 17]\n",
      "6 \t [9, 7, 18] \t 3 \t [-6, -8, 24] \t [6, 8, 24]\n",
      "7 \t [8, 6, 11] \t 3 \t [-7, 8, -12] \t [7, 8, 12]\n",
      "8 \t [7, 10, 13] \t 3 \t [7, -10, 13] \t [7, 10, 13]\n",
      "9 \t [6, 10, 14] \t 3 \t [6, 9, -15] \t [6, 9, 15]\n",
      "10 \t [9, 8, 15] \t 3 \t [-9, 10, -18] \t [9, 10, 18]\n",
      "11 \t [12, 7, 18] \t 3 \t [11, 12, -25] \t [11, 12, 25]\n",
      "12 \t [11, 13, 16] \t 3 \t [-11, -14, 20] \t [11, 14, 20]\n",
      "13 \t [8, 12, 17] \t 3 \t [-13, 14, 22] \t [13, 14, 22]\n",
      "14 \t [9, 4] \t 2 \t [15, -16] \t [15, 16]\n",
      "15 \t [5, 10, 17] \t 3 \t [-17, 18, 23] \t [17, 18, 23]\n",
      "16 \t [2, 12] \t 2 \t [19, -20] \t [19, 20]\n",
      "17 \t [3, 13, 15] \t 3 \t [21, -22, -23] \t [21, 22, 23]\n",
      "18 \t [6, 11] \t 2 \t [-24, 25] \t [24, 25]\n"
     ]
    }
   ],
   "source": [
    "for v in c.vertices:\n",
    "    print(v.id, '\\t', v.n_ids, '\\t', v.degree, '\\t', v.signed_incident_ids, '\\t', v.incident_ids)"
   ]
  },
  {
   "cell_type": "code",
   "execution_count": 21,
   "metadata": {},
   "outputs": [
    {
     "name": "stdout",
     "output_type": "stream",
     "text": [
      "1 True None\n",
      "2 True None\n",
      "3 False 1\n",
      "4 True None\n",
      "5 False 0\n",
      "6 True None\n",
      "7 False 0\n",
      "8 False 1\n",
      "9 True None\n",
      "10 False 0\n",
      "11 True None\n",
      "12 True None\n",
      "13 False 1\n",
      "14 True None\n",
      "15 False 0\n",
      "16 True None\n",
      "17 False 0\n",
      "18 True None\n"
     ]
    }
   ],
   "source": [
    "for v in c.vertices:\n",
    "    print(v.id, v.is_external, v.junction_type)"
   ]
  }
 ],
 "metadata": {
  "kernelspec": {
   "display_name": "Python 3 (ipykernel)",
   "language": "python",
   "name": "python3"
  },
  "language_info": {
   "codemirror_mode": {
    "name": "ipython",
    "version": 3
   },
   "file_extension": ".py",
   "mimetype": "text/x-python",
   "name": "python",
   "nbconvert_exporter": "python",
   "pygments_lexer": "ipython3",
   "version": "3.10.4"
  }
 },
 "nbformat": 4,
 "nbformat_minor": 4
}
