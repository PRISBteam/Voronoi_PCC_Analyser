{
 "cells": [
  {
   "cell_type": "code",
   "execution_count": 36,
   "metadata": {},
   "outputs": [],
   "source": [
    "import random"
   ]
  },
  {
   "cell_type": "code",
   "execution_count": 3,
   "metadata": {},
   "outputs": [],
   "source": [
    "from matgen import base"
   ]
  },
  {
   "cell_type": "markdown",
   "metadata": {},
   "source": [
    "Load complex from .tess file"
   ]
  },
  {
   "cell_type": "code",
   "execution_count": 6,
   "metadata": {},
   "outputs": [
    {
     "name": "stdout",
     "output_type": "stream",
     "text": [
      "Complex loaded: 0.0 s\n",
      "<class CellComplex> 2D\n",
      "18 vertices\n",
      "25 edges\n",
      "8 faces\n"
     ]
    }
   ],
   "source": [
    "filename = 'tests/n8-id1/n8-id1.tess'\n",
    "c = base.CellComplex.from_tess_file(filename, with_measures=True, with_theta=True, lower_thrd=170, upper_thrd=None)\n",
    "print(c)"
   ]
  },
  {
   "cell_type": "markdown",
   "metadata": {},
   "source": [
    "Random sampling"
   ]
  },
  {
   "cell_type": "code",
   "execution_count": 27,
   "metadata": {},
   "outputs": [
    {
     "name": "stdout",
     "output_type": "stream",
     "text": [
      "15\n"
     ]
    }
   ],
   "source": [
    "# Number of internal edges\n",
    "n_int = len(c.get_internal_ids('e'))\n",
    "print(n_int)"
   ]
  },
  {
   "cell_type": "code",
   "execution_count": 28,
   "metadata": {},
   "outputs": [
    {
     "name": "stdout",
     "output_type": "stream",
     "text": [
      "4\n"
     ]
    }
   ],
   "source": [
    "# Number of special edges from given p\n",
    "p = 0.3\n",
    "n_spec = round(p * n_int)\n",
    "print(n_spec)"
   ]
  },
  {
   "cell_type": "code",
   "execution_count": 34,
   "metadata": {},
   "outputs": [
    {
     "name": "stdout",
     "output_type": "stream",
     "text": [
      "Internal edges: [3, 4, 5, 7, 8, 9, 10, 12, 13, 14, 17, 18, 21, 22, 23]\n",
      "Random special edges for p = 0.3: [23, 13, 7, 17]\n"
     ]
    }
   ],
   "source": [
    "# Random sample of special edges from internal\n",
    "e_ids = random.sample(c.get_internal_ids('e'), n_spec)\n",
    "print('Internal edges:', c.get_internal_ids('e'))\n",
    "print(f'Random special edges for p = {p}:', e_ids)"
   ]
  },
  {
   "cell_type": "code",
   "execution_count": 35,
   "metadata": {},
   "outputs": [],
   "source": [
    "# Save special edge ids to file\n",
    "output_filename = 'special_edges.txt'\n",
    "with open(output_filename, 'w') as file:\n",
    "    for e_id in e_ids:\n",
    "        file.write(str(e_id) + '\\n')"
   ]
  },
  {
   "cell_type": "markdown",
   "metadata": {},
   "source": [
    "Complex attributes and methods (to be continued ...)"
   ]
  },
  {
   "cell_type": "code",
   "execution_count": 7,
   "metadata": {},
   "outputs": [
    {
     "data": {
      "text/plain": [
       "2"
      ]
     },
     "execution_count": 7,
     "metadata": {},
     "output_type": "execute_result"
    }
   ],
   "source": [
    "c.dim"
   ]
  },
  {
   "cell_type": "code",
   "execution_count": 8,
   "metadata": {},
   "outputs": [
    {
     "name": "stdout",
     "output_type": "stream",
     "text": [
      "1 (0.0, 0.0) 0.0 0.0 0.0\n",
      "2 (-0.0, 0.372175178843) -0.0 0.372175178843 -0.0\n",
      "3 (0.165947886512, 0.37480896537) 0.165947886512 0.37480896537 -0.0\n",
      "4 (0.23538946605, -0.0) 0.23538946605 -0.0 -0.0\n",
      "5 (0.218468842812, 0.216383034298) 0.218468842812 0.216383034298 -0.0\n",
      "6 (1.0, 0.712565556107) 1.0 0.712565556107 -0.0\n",
      "7 (0.717156741919, 0.8397056782) 0.717156741919 0.8397056782 -0.0\n",
      "8 (0.64524292278, 0.610152357521) 0.64524292278 0.610152357521 -0.0\n",
      "9 (1.0, 0.15437533501) 1.0 0.15437533501 -0.0\n",
      "10 (0.978841730334, 0.172624569554) 0.978841730334 0.172624569554 -0.0\n",
      "11 (0.717820800568, 1.0) 0.717820800568 1.0 -0.0\n",
      "12 (0.120089346967, 1.0) 0.120089346967 1.0 -0.0\n",
      "13 (0.290418808599, 0.651898152157) 0.290418808599 0.651898152157 -0.0\n",
      "14 (1.0, 0.0) 1.0 0.0 0.0\n",
      "15 (0.556645585193, 0.294222808899) 0.556645585193 0.294222808899 -0.0\n",
      "16 (0.0, 1.0) 0.0 1.0 0.0\n",
      "17 (0.250115874477, 0.503771588124) 0.250115874477 0.503771588124 -0.0\n",
      "18 (1.0, 1.0) 1.0 1.0 0.0\n"
     ]
    }
   ],
   "source": [
    "for v in c.vertices:\n",
    "    print(v.id, v.coord, v.x, v.y, v.z, )"
   ]
  },
  {
   "cell_type": "code",
   "execution_count": 18,
   "metadata": {},
   "outputs": [
    {
     "name": "stdout",
     "output_type": "stream",
     "text": [
      "1 \t [2, 4] \t 2 \t [-1, 2] \t [1, 2]\n",
      "2 \t [1, 3, 16] \t 3 \t [1, 3, -19] \t [1, 3, 19]\n",
      "3 \t [2, 5, 17] \t 3 \t [-3, 4, -21] \t [3, 4, 21]\n",
      "4 \t [1, 5, 14] \t 3 \t [-2, -5, 16] \t [2, 5, 16]\n",
      "5 \t [3, 4, 15] \t 3 \t [-4, 5, 17] \t [4, 5, 17]\n",
      "6 \t [9, 7, 18] \t 3 \t [-6, -8, 24] \t [6, 8, 24]\n",
      "7 \t [8, 6, 11] \t 3 \t [-7, 8, -12] \t [7, 8, 12]\n",
      "8 \t [7, 10, 13] \t 3 \t [7, -10, 13] \t [7, 10, 13]\n",
      "9 \t [6, 10, 14] \t 3 \t [6, 9, -15] \t [6, 9, 15]\n",
      "10 \t [9, 8, 15] \t 3 \t [-9, 10, -18] \t [9, 10, 18]\n",
      "11 \t [12, 7, 18] \t 3 \t [11, 12, -25] \t [11, 12, 25]\n",
      "12 \t [11, 13, 16] \t 3 \t [-11, -14, 20] \t [11, 14, 20]\n",
      "13 \t [8, 12, 17] \t 3 \t [-13, 14, 22] \t [13, 14, 22]\n",
      "14 \t [9, 4] \t 2 \t [15, -16] \t [15, 16]\n",
      "15 \t [5, 10, 17] \t 3 \t [-17, 18, 23] \t [17, 18, 23]\n",
      "16 \t [2, 12] \t 2 \t [19, -20] \t [19, 20]\n",
      "17 \t [3, 13, 15] \t 3 \t [21, -22, -23] \t [21, 22, 23]\n",
      "18 \t [6, 11] \t 2 \t [-24, 25] \t [24, 25]\n"
     ]
    }
   ],
   "source": [
    "for v in c.vertices:\n",
    "    print(v.id, '\\t', v.n_ids, '\\t', v.degree, '\\t', v.signed_incident_ids, '\\t', v.incident_ids)"
   ]
  },
  {
   "cell_type": "code",
   "execution_count": 21,
   "metadata": {},
   "outputs": [
    {
     "name": "stdout",
     "output_type": "stream",
     "text": [
      "1 True None\n",
      "2 True None\n",
      "3 False 1\n",
      "4 True None\n",
      "5 False 0\n",
      "6 True None\n",
      "7 False 0\n",
      "8 False 1\n",
      "9 True None\n",
      "10 False 0\n",
      "11 True None\n",
      "12 True None\n",
      "13 False 1\n",
      "14 True None\n",
      "15 False 0\n",
      "16 True None\n",
      "17 False 0\n",
      "18 True None\n"
     ]
    }
   ],
   "source": [
    "for v in c.vertices:\n",
    "    print(v.id, v.is_external, v.junction_type)"
   ]
  },
  {
   "cell_type": "code",
   "execution_count": 1,
   "metadata": {},
   "outputs": [],
   "source": [
    "from matgen import base, matutils"
   ]
  },
  {
   "cell_type": "code",
   "execution_count": 4,
   "metadata": {},
   "outputs": [],
   "source": [
    "ori_euler1 = (6.944, 46.965, 351.34)"
   ]
  },
  {
   "cell_type": "code",
   "execution_count": 5,
   "metadata": {},
   "outputs": [],
   "source": [
    "ori_rod1 = (-0.058983166077, 0.430475858641, -0.014976044450)"
   ]
  },
  {
   "cell_type": "code",
   "execution_count": 15,
   "metadata": {},
   "outputs": [],
   "source": [
    "ori_euler2 = (29.718, 44.675, 357.21)"
   ]
  },
  {
   "cell_type": "code",
   "execution_count": 16,
   "metadata": {},
   "outputs": [],
   "source": [
    "ori_rod2 = (-0.118257947291, 0.405619227651, 0.239414325785)"
   ]
  },
  {
   "cell_type": "code",
   "execution_count": 21,
   "metadata": {},
   "outputs": [],
   "source": [
    "from importlib import reload"
   ]
  },
  {
   "cell_type": "code",
   "execution_count": 48,
   "metadata": {},
   "outputs": [
    {
     "data": {
      "text/plain": [
       "<module 'matgen.matutils' from '/Users/v94623eb2/Documents/Voronoi_DCC_Analyser/matgen/matutils.py'>"
      ]
     },
     "execution_count": 48,
     "metadata": {},
     "output_type": "execute_result"
    }
   ],
   "source": [
    "reload(matutils)"
   ]
  },
  {
   "cell_type": "code",
   "execution_count": 49,
   "metadata": {
    "scrolled": true
   },
   "outputs": [
    {
     "data": {
      "text/plain": [
       "array([[ 0.68791967, -0.06789982, -0.72260372],\n",
       "       [-0.01751837,  0.99377081, -0.11005768],\n",
       "       [ 0.72557538,  0.08836968,  0.68244499]])"
      ]
     },
     "execution_count": 49,
     "metadata": {},
     "output_type": "execute_result"
    }
   ],
   "source": [
    "R1_euler = matutils._ori_mat(ori_euler1, oridesc='euler-roe:active')\n",
    "R1_euler"
   ]
  },
  {
   "cell_type": "code",
   "execution_count": 50,
   "metadata": {
    "scrolled": true
   },
   "outputs": [
    {
     "data": {
      "text/plain": [
       "array([[ 0.64097655,  0.30982652, -0.70225109],\n",
       "       [-0.465083  ,  0.88460533, -0.03422295],\n",
       "       [ 0.61061188,  0.34854115,  0.71110632]])"
      ]
     },
     "execution_count": 50,
     "metadata": {},
     "output_type": "execute_result"
    }
   ],
   "source": [
    "R2_euler = matutils._ori_mat(ori_euler2, oridesc='euler-roe:active')\n",
    "R2_euler"
   ]
  },
  {
   "cell_type": "code",
   "execution_count": 51,
   "metadata": {},
   "outputs": [
    {
     "data": {
      "text/plain": [
       "array([[ 0.90868513,  0.002012  ,  0.41747729],\n",
       "       [-0.02700541,  0.99817733,  0.05396959],\n",
       "       [-0.41660778, -0.06031551,  0.90708323]])"
      ]
     },
     "execution_count": 51,
     "metadata": {},
     "output_type": "execute_result"
    }
   ],
   "source": [
    "R1_rod = matutils._ori_mat(ori_rod1, oridesc='rodrigues:active')\n",
    "R1_rod"
   ]
  },
  {
   "cell_type": "code",
   "execution_count": 52,
   "metadata": {},
   "outputs": [
    {
     "data": {
      "text/plain": [
       "array([[ 0.89123977, -0.25363063,  0.37598294],\n",
       "       [ 0.20659825,  0.96504309,  0.16127305],\n",
       "       [-0.40374352, -0.06605554,  0.91248443]])"
      ]
     },
     "execution_count": 52,
     "metadata": {},
     "output_type": "execute_result"
    }
   ],
   "source": [
    "R2_rod = matutils._ori_mat(ori_rod2, oridesc='rodrigues:active')\n",
    "R2_rod"
   ]
  },
  {
   "cell_type": "code",
   "execution_count": 53,
   "metadata": {},
   "outputs": [
    {
     "data": {
      "text/plain": [
       "27.283548648386873"
      ]
     },
     "execution_count": 53,
     "metadata": {},
     "output_type": "execute_result"
    }
   ],
   "source": [
    "matutils._calculate_disorient(R1_euler, R2_euler)"
   ]
  },
  {
   "cell_type": "code",
   "execution_count": 54,
   "metadata": {},
   "outputs": [
    {
     "data": {
      "text/plain": [
       "14.916357025192283"
      ]
     },
     "execution_count": 54,
     "metadata": {},
     "output_type": "execute_result"
    }
   ],
   "source": [
    "matutils._calculate_disorient(R1_rod, R2_rod)"
   ]
  },
  {
   "cell_type": "code",
   "execution_count": 29,
   "metadata": {},
   "outputs": [],
   "source": [
    "import math"
   ]
  },
  {
   "cell_type": "code",
   "execution_count": 35,
   "metadata": {},
   "outputs": [
    {
     "data": {
      "text/plain": [
       "0.4347559782918937"
      ]
     },
     "execution_count": 35,
     "metadata": {},
     "output_type": "execute_result"
    }
   ],
   "source": [
    "ori = ori_rod1\n",
    "t = math.sqrt(ori[0] * ori[0] + ori[1] * ori[1] + ori[2] * ori[2])\n",
    "t"
   ]
  },
  {
   "cell_type": "code",
   "execution_count": 62,
   "metadata": {},
   "outputs": [
    {
     "data": {
      "text/plain": [
       "0.4347559782918937"
      ]
     },
     "execution_count": 62,
     "metadata": {},
     "output_type": "execute_result"
    }
   ],
   "source": [
    "(ori[0] * ori[0] + ori[1] * ori[1] + ori[2] * ori[2]) ** 0.5"
   ]
  },
  {
   "cell_type": "code",
   "execution_count": 58,
   "metadata": {},
   "outputs": [
    {
     "data": {
      "text/plain": [
       "0.007587923263922538"
      ]
     },
     "execution_count": 58,
     "metadata": {},
     "output_type": "execute_result"
    }
   ],
   "source": [
    "math.radians(t)"
   ]
  },
  {
   "cell_type": "code",
   "execution_count": 36,
   "metadata": {},
   "outputs": [],
   "source": [
    "ux, uy, uz = ori[0] / t, ori[1] / t, ori[2] / t"
   ]
  },
  {
   "cell_type": "code",
   "execution_count": 37,
   "metadata": {},
   "outputs": [
    {
     "data": {
      "text/plain": [
       "(-0.1356695917299127, 0.9901551218048575, -0.034447012112033874)"
      ]
     },
     "execution_count": 37,
     "metadata": {},
     "output_type": "execute_result"
    }
   ],
   "source": [
    "(ux, uy, uz)"
   ]
  },
  {
   "cell_type": "code",
   "execution_count": 38,
   "metadata": {},
   "outputs": [
    {
     "data": {
      "text/plain": [
       "1.0"
      ]
     },
     "execution_count": 38,
     "metadata": {},
     "output_type": "execute_result"
    }
   ],
   "source": [
    "ux*ux + uy*uy + uz*uz"
   ]
  },
  {
   "cell_type": "code",
   "execution_count": 55,
   "metadata": {},
   "outputs": [
    {
     "data": {
      "text/plain": [
       "array([[ 0.90868513,  0.002012  ,  0.41747729],\n",
       "       [-0.02700541,  0.99817733,  0.05396959],\n",
       "       [-0.41660778, -0.06031551,  0.90708323]])"
      ]
     },
     "execution_count": 55,
     "metadata": {},
     "output_type": "execute_result"
    }
   ],
   "source": [
    "matutils._R_from_Rodrigues(t, (ux, uy, uz))"
   ]
  },
  {
   "cell_type": "code",
   "execution_count": 61,
   "metadata": {},
   "outputs": [
    {
     "data": {
      "text/plain": [
       "0.9069728485837603"
      ]
     },
     "execution_count": 61,
     "metadata": {},
     "output_type": "execute_result"
    }
   ],
   "source": [
    "math.cos(t)"
   ]
  },
  {
   "cell_type": "code",
   "execution_count": 63,
   "metadata": {},
   "outputs": [],
   "source": [
    "ori_euler = ori_euler1\n",
    "\n",
    "cos = math.cos\n",
    "sin = math.sin\n",
    "heading = ori_euler[0]\n",
    "attitude = ori_euler[1]\n",
    "bank = ori_euler[2]\n",
    "\n",
    "c1 = cos(heading / 2)\n",
    "c2 = cos(attitude / 2)\n",
    "c3 = cos(bank / 2)\n",
    "s1 = sin(heading / 2)\n",
    "s2 = sin(attitude / 2)\n",
    "s3 = sin(bank / 2)\n",
    "\n",
    "angle = 2 * math.acos(c1*c2*c3 - s1*s2*s3)\n",
    "x = s1*s2*c3 + c1*c2*s3\n",
    "y = s1*c2*c3 + c1*s2*s3\n",
    "z = c1*s2*c3 - s1*c2*s3\n",
    "\n",
    "scale = math.sqrt(x*x + y*y + z*z)\n",
    "\n",
    "x = x / scale\n",
    "y = y / scale\n",
    "z = z / scale\n",
    "\n",
    "rx = angle * x\n",
    "ry = angle * y\n",
    "rz = angle * z"
   ]
  },
  {
   "cell_type": "code",
   "execution_count": 64,
   "metadata": {},
   "outputs": [
    {
     "data": {
      "text/plain": [
       "(0.8402639766083686, -0.6209160597382993, 2.6294654337950587)"
      ]
     },
     "execution_count": 64,
     "metadata": {},
     "output_type": "execute_result"
    }
   ],
   "source": [
    "(rx, ry, rz)"
   ]
  },
  {
   "cell_type": "code",
   "execution_count": 65,
   "metadata": {},
   "outputs": [
    {
     "data": {
      "text/plain": [
       "(-0.058983166077, 0.430475858641, -0.01497604445)"
      ]
     },
     "execution_count": 65,
     "metadata": {},
     "output_type": "execute_result"
    }
   ],
   "source": [
    "ori_rod1"
   ]
  }
 ],
 "metadata": {
  "kernelspec": {
   "display_name": "Python 3 (ipykernel)",
   "language": "python",
   "name": "python3"
  },
  "language_info": {
   "codemirror_mode": {
    "name": "ipython",
    "version": 3
   },
   "file_extension": ".py",
   "mimetype": "text/x-python",
   "name": "python",
   "nbconvert_exporter": "python",
   "pygments_lexer": "ipython3",
   "version": "3.10.4"
  }
 },
 "nbformat": 4,
 "nbformat_minor": 4
}
