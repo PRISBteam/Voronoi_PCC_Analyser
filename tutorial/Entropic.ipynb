{
 "cells": [
  {
   "cell_type": "code",
   "execution_count": 1,
   "id": "7f7b90af-990e-4db4-be3a-4c48cd0ab94f",
   "metadata": {},
   "outputs": [],
   "source": [
    "from matgen.base import CellComplex"
   ]
  },
  {
   "cell_type": "code",
   "execution_count": 2,
   "id": "fcc92fa9-c3b9-48b6-8851-ea4eb753c234",
   "metadata": {},
   "outputs": [
    {
     "name": "stdout",
     "output_type": "stream",
     "text": [
      "<class CellComplex> 2D\n",
      "1986 vertices\n",
      "2977 edges\n",
      "992 faces\n"
     ]
    }
   ],
   "source": [
    "# Load a cell complex.\n",
    "filename = \"pass1.tess\"\n",
    "cellcomplex = CellComplex.from_tess_file(filename)\n",
    "print(cellcomplex)"
   ]
  },
  {
   "cell_type": "code",
   "execution_count": 3,
   "id": "d9de4e59-dcf6-4814-8f03-71e87d40f131",
   "metadata": {},
   "outputs": [],
   "source": [
    "# Set disorienation angles theta from crystal orientations.\n",
    "cellcomplex.set_theta_from_ori()"
   ]
  },
  {
   "cell_type": "code",
   "execution_count": 4,
   "id": "8e9c8d16-4c9f-48dd-879e-db085a3fc7cd",
   "metadata": {},
   "outputs": [],
   "source": [
    "disangles = [gb.theta for gb in cellcomplex._GBs.values()]"
   ]
  },
  {
   "cell_type": "code",
   "execution_count": 5,
   "id": "5eee53e4-c4fd-43de-ac98-55f593bfdcf6",
   "metadata": {},
   "outputs": [
    {
     "data": {
      "text/plain": [
       "2977"
      ]
     },
     "execution_count": 5,
     "metadata": {},
     "output_type": "execute_result"
    }
   ],
   "source": [
    "len(disangles)"
   ]
  },
  {
   "cell_type": "code",
   "execution_count": 6,
   "id": "b84e04cf-fa27-4c39-942f-a4b515bfd9c8",
   "metadata": {},
   "outputs": [
    {
     "data": {
      "text/plain": [
       "[27.28354864840808,\n",
       " 27.815643716239638,\n",
       " 14.78556460373759,\n",
       " 38.31054403012313,\n",
       " 9.82438375863091,\n",
       " 40.71391908240428,\n",
       " 21.334120801675187,\n",
       " 32.87743091796037,\n",
       " -1,\n",
       " -1]"
      ]
     },
     "execution_count": 6,
     "metadata": {},
     "output_type": "execute_result"
    }
   ],
   "source": [
    "disangles[:10]"
   ]
  },
  {
   "cell_type": "code",
   "execution_count": 7,
   "id": "7ca19f86-6de8-41d8-86c0-502a4e8213cc",
   "metadata": {},
   "outputs": [
    {
     "data": {
      "text/plain": [
       "62.143944293361784"
      ]
     },
     "execution_count": 7,
     "metadata": {},
     "output_type": "execute_result"
    }
   ],
   "source": [
    "max(disangles)"
   ]
  },
  {
   "cell_type": "code",
   "execution_count": 8,
   "id": "159afcb9-1a1f-40d3-977a-8d8254c39b0c",
   "metadata": {},
   "outputs": [],
   "source": [
    "# Set special grain boundaries (GB) as HAGBs.\n",
    "lower_thrd = 15\n",
    "upper_thrd = None\n",
    "cellcomplex.reset_special(lower_thrd=lower_thrd, upper_thrd=upper_thrd)"
   ]
  },
  {
   "cell_type": "code",
   "execution_count": 9,
   "id": "2b06e13a-c4dd-43fa-9e74-350806840852",
   "metadata": {},
   "outputs": [
    {
     "data": {
      "text/plain": [
       "{'p': 0.7645206438068579,\n",
       " 'j0': 0.0712372790573112,\n",
       " 'j1': 0.03535083020889127,\n",
       " 'j2': 0.4209962506695233,\n",
       " 'j3': 0.4724156400642742,\n",
       " 'q': 0.2354793561931421,\n",
       " 'Sp': 0.7874414356442988,\n",
       " 'Sp_m': 1.2368500715966775,\n",
       " 'Sp_s': -0.44940863595237873,\n",
       " 'p_expected': 0.7648634172469202,\n",
       " 'delta_p': 0.00034277344006228283,\n",
       " 'S': 1.478513971006966,\n",
       " 'S_m': 2.7408319865572595,\n",
       " 'S_d': -1.2623180155502935,\n",
       " 'kappa': -2.171269008913276,\n",
       " 'delta_S': -0.6910725353626671,\n",
       " 'd1': 0.03806228373702423,\n",
       " 'd2': 0.4532871972318339,\n",
       " 'd3': 0.5086505190311419,\n",
       " 'sigma': 0.2851969265007199,\n",
       " 'chi': -0.7273799666526775}"
      ]
     },
     "execution_count": 9,
     "metadata": {},
     "output_type": "execute_result"
    }
   ],
   "source": [
    "# Triple Junction characteristics\n",
    "cellcomplex.to_TJset().get_properties()"
   ]
  },
  {
   "cell_type": "code",
   "execution_count": 10,
   "id": "6d9a0762-1043-48e2-88ef-75683db4b8d4",
   "metadata": {},
   "outputs": [
    {
     "data": {
      "text/plain": [
       "{'g': 0.2752016129032258,\n",
       " 'gamma0': 0.5426871938418475,\n",
       " 'gamma1': 0.3635409377186844,\n",
       " 'gamma2': 0.09377186843946816,\n",
       " 'delta1': 0.7949502677888295,\n",
       " 'delta2': 0.20504973221117065,\n",
       " 'S_g': 0.8488299968516182,\n",
       " 'S': 1.3294491767287289,\n",
       " 'S_m': 1.918772834296458,\n",
       " 'S_d': -0.5893236575677291,\n",
       " 'kappa': -3.2558897129900806,\n",
       " 'delta_S': 0.03072055334287027}"
      ]
     },
     "execution_count": 10,
     "metadata": {},
     "output_type": "execute_result"
    }
   ],
   "source": [
    "# Grain Gamma characteristics\n",
    "cellcomplex.to_GGset().get_properties()"
   ]
  },
  {
   "cell_type": "code",
   "execution_count": 11,
   "id": "e8d5f3fc-cc6c-45b5-8c88-f4ed8e5c9aeb",
   "metadata": {},
   "outputs": [
    {
     "name": "stdout",
     "output_type": "stream",
     "text": [
      "5 -> 10 : 0.1263939880440097\n",
      "10 -> 15 : 0.07451205604560204\n",
      "15 -> 20 : 0.039096667909580274\n",
      "20 -> 25 : 0.02447372155140018\n",
      "25 -> 30 : 0.018605470418354156\n"
     ]
    }
   ],
   "source": [
    "# Kullback-Leibler divergence\n",
    "from scipy.special import rel_entr\n",
    "\n",
    "lower_thrd = 5 # initial\n",
    "upper_thrd = None # initial\n",
    "\n",
    "cellcomplex.reset_special(lower_thrd=lower_thrd)\n",
    "qi = cellcomplex.j_tuple\n",
    "prev_thrd = lower_thrd\n",
    "\n",
    "Dkl = []\n",
    "\n",
    "for current_thrd in [10, 15, 20, 25, 30]:\n",
    "    cellcomplex.reset_special(lower_thrd=current_thrd)\n",
    "    pi = qi\n",
    "    qi = cellcomplex.j_tuple\n",
    "    Dkl.append(rel_entr(pi, qi).sum())\n",
    "    print(prev_thrd, '->', current_thrd, \":\", rel_entr(pi, qi).sum())\n",
    "    prev_thrd = current_thrd"
   ]
  }
 ],
 "metadata": {
  "kernelspec": {
   "display_name": "Python 3 (ipykernel)",
   "language": "python",
   "name": "python3"
  },
  "language_info": {
   "codemirror_mode": {
    "name": "ipython",
    "version": 3
   },
   "file_extension": ".py",
   "mimetype": "text/x-python",
   "name": "python",
   "nbconvert_exporter": "python",
   "pygments_lexer": "ipython3",
   "version": "3.10.4"
  }
 },
 "nbformat": 4,
 "nbformat_minor": 5
}
